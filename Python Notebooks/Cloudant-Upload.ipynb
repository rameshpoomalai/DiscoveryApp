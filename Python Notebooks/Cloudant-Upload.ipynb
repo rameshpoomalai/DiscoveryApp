{
 "cells": [
  {
   "cell_type": "code",
   "execution_count": null,
   "metadata": {},
   "outputs": [],
   "source": [
    "# install cloudant\n",
    "!pip install cloudant"
   ]
  },
  {
   "cell_type": "code",
   "execution_count": null,
   "metadata": {},
   "outputs": [],
   "source": [
    "from cloudant.client import Cloudant\n",
    "username = \"<< cloudant username >>\"\n",
    "password = \"<< cloudant password >>\"\n",
    "url_string = \"<< cloudant url >>\"\n",
    "client = Cloudant(username, password, url=url_string, connect=True, auto_renew=True)"
   ]
  },
  {
   "cell_type": "code",
   "execution_count": null,
   "metadata": {},
   "outputs": [],
   "source": [
    "# Create a database using an initialized client\n",
    "# The result is a new CloudantDatabase\n",
    "my_database = client.create_database('<< cloudant db name >>')\n",
    "\n",
    "# You can check that the database exists\n",
    "if my_database.exists():\n",
    "    print('Successfully created database!!')"
   ]
  },
  {
   "cell_type": "code",
   "execution_count": null,
   "metadata": {},
   "outputs": [],
   "source": [
    "import os\n",
    "from pathlib import Path\n",
    "\n",
    "pathStr = '<< local absolute path to files >>'\n",
    "path = Path(pathStr)\n",
    "\n",
    "filenames_list = []\n",
    "\n",
    "#Load word, html and pdf files only\n",
    "\n",
    "docFiles_list = list(path.glob('**/*.doc'))\n",
    "for file in docFiles_list:\n",
    "    fileName = file.name\n",
    "    filenames_list.append(fileName)\n",
    "docFiles_list = filenames_list\n",
    "print(\"docFiles_list list size is \", len(docFiles_list))\n",
    "offset = len(filenames_list)\n",
    "    \n",
    "docxFiles_list = list(path.glob('**/*.docx'))\n",
    "for file in docxFiles_list:\n",
    "    fileName = file.name\n",
    "    filenames_list.append(fileName)\n",
    "docxFiles_list = filenames_list[offset:]\n",
    "print(\"docxFiles_list list size is \", len(docxFiles_list))\n",
    "offset = len(filenames_list)\n",
    "\n",
    "pdfFiles_list = list(path.glob('**/*.pdf'))\n",
    "for file in pdfFiles_list:\n",
    "    fileName = file.name\n",
    "    filenames_list.append(fileName)\n",
    "pdfFiles_list =  filenames_list[offset:]\n",
    "print(\"pdfFiles_list list size is \", len(pdfFiles_list))\n",
    "offset = len(filenames_list)\n",
    "\n",
    "htmlFiles_list = list(path.glob('**/*.html'))\n",
    "for file in htmlFiles_list:\n",
    "    fileName = file.name\n",
    "    filenames_list.append(fileName)\n",
    "htmlFiles_list =  filenames_list[offset:]\n",
    "print(\"htmlFiles_list list size is \", len(htmlFiles_list))\n"
   ]
  },
  {
   "cell_type": "code",
   "execution_count": null,
   "metadata": {},
   "outputs": [],
   "source": [
    "allFilesList = [docFiles_list, docxFiles_list, pdfFiles_list, htmlFiles_list]\n",
    "contentTypes = [\"application/msword\", \"application/vnd.openxmlformats-officedocument.wordprocessingml.document\", \"application/pdf\", \"text/html\"]"
   ]
  },
  {
   "cell_type": "code",
   "execution_count": null,
   "metadata": {},
   "outputs": [],
   "source": [
    "import time\n",
    "from cloudant.document import Document\n",
    "contentTypeIdx = 0\n",
    "for fileslist in allFilesList:\n",
    "    for docName in fileslist:\n",
    "        # Upon entry into the document context, fetches the document from the\n",
    "        # remote database, if it exists. Upon exit from the context, saves the\n",
    "        # document to the remote database with changes made within the context.\n",
    "        with Document(my_database, docName) as document:\n",
    "            # The document is fetched from the remote database\n",
    "            # Changes are made locally\n",
    "            document['filename'] = docName\n",
    "            # The document is saved to the remote database\n",
    "            # Add attachment\n",
    "            #document.put_attachment(docName, 'type/binary', data, headers=None)\n",
    "            fileFullPath = pathStr + \"/\" + docName\n",
    "            fileSize = os.path.getsize(fileFullPath)//1000000 #(in MB)\n",
    "\n",
    "            sleep_time = fileSize * 2\n",
    "            with open(fileFullPath, 'rb') as f:\n",
    "                data = f.read()\n",
    "                try:\n",
    "                    time.sleep(sleep_time)\n",
    "                    resp = document.put_attachment(docName, contentTypes[contentTypeIdx], data)\n",
    "                    print(\"Successfully uploaded \", docName)\n",
    "                    time.sleep(sleep_time)\n",
    "                except Exception as e:\n",
    "                    print(\"Failed to upload \", docName, str(e))\n",
    "    contentTypeIdx = contentTypeIdx+1\n",
    "    print(\"Files processed: \", contentTypeIdx)\n"
   ]
  },
  {
   "cell_type": "code",
   "execution_count": null,
   "metadata": {},
   "outputs": [],
   "source": []
  }
 ],
 "metadata": {
  "kernelspec": {
   "display_name": "Python 3",
   "language": "python",
   "name": "python3"
  },
  "language_info": {
   "codemirror_mode": {
    "name": "ipython",
    "version": 3
   },
   "file_extension": ".py",
   "mimetype": "text/x-python",
   "name": "python",
   "nbconvert_exporter": "python",
   "pygments_lexer": "ipython3",
   "version": "3.7.1"
  }
 },
 "nbformat": 4,
 "nbformat_minor": 2
}
