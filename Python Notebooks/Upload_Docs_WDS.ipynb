{
 "cells": [
  {
   "cell_type": "code",
   "execution_count": null,
   "metadata": {},
   "outputs": [],
   "source": [
    "import os\n",
    "path = '<< Absolute_Path_To_Local_Ingest_Folder >>'\n",
    "files = os.listdir(path)\n",
    "files"
   ]
  },
  {
   "cell_type": "code",
   "execution_count": null,
   "metadata": {},
   "outputs": [],
   "source": [
    "import json\n",
    "from watson_developer_cloud import DiscoveryV1\n",
    "discovery = DiscoveryV1(version='<< WDS API version >>', username='<< username >>', password='<< password >>', url='<< WDS API url >>')\n",
    "environments = discovery.list_environments().get_result()\n",
    "environment_id = (environments[\"environments\"][1]['environment_id'])\n",
    "collection_id = '<< collection_id >>'\n",
    "\n",
    "for filename in files:\n",
    "    with open(os.path.join(os.getcwd(), path, filename), 'rb') as fileinfo:\n",
    "        metadata_str = \"{\\\"filename\\\":\\\"\"+filename+\"\\\"}\"\n",
    "        print(metadata_str)\n",
    "        try:\n",
    "            add_doc = discovery.add_document(environment_id, collection_id, file=fileinfo, metadata=metadata_str).get_result()\n",
    "        except Exception as e:\n",
    "            print('Uploading ',filename, 'failed because of ', str(e))\n",
    "    print(json.dumps(add_doc, indent=2))"
   ]
  },
  {
   "cell_type": "code",
   "execution_count": null,
   "metadata": {},
   "outputs": [],
   "source": [
    "#Verify the upload worked\n",
    "query_str = '<< NL question string >>'\n",
    "result = discovery.query(environment_id=environment_id, collection_id=collection_id, natural_language_query=query_str, highlight='true', passages='false')\n",
    "print(result)"
   ]
  },
  {
   "cell_type": "code",
   "execution_count": null,
   "metadata": {},
   "outputs": [],
   "source": []
  }
 ],
 "metadata": {
  "kernelspec": {
   "display_name": "Python 3",
   "language": "python",
   "name": "python3"
  },
  "language_info": {
   "codemirror_mode": {
    "name": "ipython",
    "version": 3
   },
   "file_extension": ".py",
   "mimetype": "text/x-python",
   "name": "python",
   "nbconvert_exporter": "python",
   "pygments_lexer": "ipython3",
   "version": "3.7.1"
  }
 },
 "nbformat": 4,
 "nbformat_minor": 2
}
